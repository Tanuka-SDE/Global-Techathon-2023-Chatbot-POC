{
 "cells": [
  {
   "cell_type": "markdown",
   "metadata": {},
   "source": [
    "# Ecommerce Chatbot"
   ]
  },
  {
   "cell_type": "code",
   "execution_count": 1,
   "metadata": {
    "colab": {
     "base_uri": "https://localhost:8080/"
    },
    "id": "5-h_nDGp3Kdf",
    "outputId": "94191443-3844-4c1d-a26f-7619d976a55b",
    "tags": []
   },
   "outputs": [
    {
     "name": "stdout",
     "output_type": "stream",
     "text": [
      "Collecting langchain==0.0.123 (from -r requirements.txt (line 1))\n",
      "  Downloading langchain-0.0.123-py3-none-any.whl (426 kB)\n",
      "\u001b[2K     \u001b[90m━━━━━━━━━━━━━━━━━━━━━━━━━━━━━━━━━━━━━━\u001b[0m \u001b[32m426.3/426.3 kB\u001b[0m \u001b[31m10.7 MB/s\u001b[0m eta \u001b[36m0:00:00\u001b[0ma \u001b[36m0:00:01\u001b[0m\n",
      "\u001b[?25hCollecting redis==4.5.3 (from -r requirements.txt (line 2))\n",
      "  Downloading redis-4.5.3-py3-none-any.whl (238 kB)\n",
      "\u001b[2K     \u001b[90m━━━━━━━━━━━━━━━━━━━━━━━━━━━━━━━━━━━━━━\u001b[0m \u001b[32m238.6/238.6 kB\u001b[0m \u001b[31m14.9 MB/s\u001b[0m eta \u001b[36m0:00:00\u001b[0m\n",
      "\u001b[?25hCollecting openai==0.27.2 (from -r requirements.txt (line 3))\n",
      "  Downloading openai-0.27.2-py3-none-any.whl (70 kB)\n",
      "\u001b[2K     \u001b[90m━━━━━━━━━━━━━━━━━━━━━━━━━━━━━━━━━━━━━━━━\u001b[0m \u001b[32m70.1/70.1 kB\u001b[0m \u001b[31m17.1 MB/s\u001b[0m eta \u001b[36m0:00:00\u001b[0m\n",
      "\u001b[?25hCollecting numpy (from -r requirements.txt (line 4))\n",
      "  Downloading numpy-1.24.3-cp311-cp311-manylinux_2_17_x86_64.manylinux2014_x86_64.whl (17.3 MB)\n",
      "\u001b[2K     \u001b[90m━━━━━━━━━━━━━━━━━━━━━━━━━━━━━━━━━━━━━━━━\u001b[0m \u001b[32m17.3/17.3 MB\u001b[0m \u001b[31m25.4 MB/s\u001b[0m eta \u001b[36m0:00:00\u001b[0m00:01\u001b[0m00:01\u001b[0m\n",
      "\u001b[?25hCollecting pandas (from -r requirements.txt (line 5))\n",
      "  Downloading pandas-2.0.2-cp311-cp311-manylinux_2_17_x86_64.manylinux2014_x86_64.whl (12.2 MB)\n",
      "\u001b[2K     \u001b[90m━━━━━━━━━━━━━━━━━━━━━━━━━━━━━━━━━━━━━━━━\u001b[0m \u001b[32m12.2/12.2 MB\u001b[0m \u001b[31m26.7 MB/s\u001b[0m eta \u001b[36m0:00:00\u001b[0m00:01\u001b[0m00:01\u001b[0m\n",
      "\u001b[?25hRequirement already satisfied: PyYAML>=5.4.1 in /opt/conda/lib/python3.11/site-packages (from langchain==0.0.123->-r requirements.txt (line 1)) (6.0)\n",
      "Collecting SQLAlchemy<2,>=1 (from langchain==0.0.123->-r requirements.txt (line 1))\n",
      "  Downloading SQLAlchemy-1.4.48-cp311-cp311-manylinux_2_5_x86_64.manylinux1_x86_64.manylinux_2_17_x86_64.manylinux2014_x86_64.whl (1.6 MB)\n",
      "\u001b[2K     \u001b[90m━━━━━━━━━━━━━━━━━━━━━━━━━━━━━━━━━━━━━━━━\u001b[0m \u001b[32m1.6/1.6 MB\u001b[0m \u001b[31m23.8 MB/s\u001b[0m eta \u001b[36m0:00:00\u001b[0ma \u001b[36m0:00:01\u001b[0m\n",
      "\u001b[?25hCollecting aiohttp<4.0.0,>=3.8.3 (from langchain==0.0.123->-r requirements.txt (line 1))\n",
      "  Downloading aiohttp-3.8.4-cp311-cp311-manylinux_2_17_x86_64.manylinux2014_x86_64.whl (1.0 MB)\n",
      "\u001b[2K     \u001b[90m━━━━━━━━━━━━━━━━━━━━━━━━━━━━━━━━━━━━━━━━\u001b[0m \u001b[32m1.0/1.0 MB\u001b[0m \u001b[31m25.6 MB/s\u001b[0m eta \u001b[36m0:00:00\u001b[0ma \u001b[36m0:00:01\u001b[0m\n",
      "\u001b[?25hCollecting dataclasses-json<0.6.0,>=0.5.7 (from langchain==0.0.123->-r requirements.txt (line 1))\n",
      "  Downloading dataclasses_json-0.5.7-py3-none-any.whl (25 kB)\n",
      "Collecting pydantic<2,>=1 (from langchain==0.0.123->-r requirements.txt (line 1))\n",
      "  Downloading pydantic-1.10.9-cp311-cp311-manylinux_2_17_x86_64.manylinux2014_x86_64.whl (3.1 MB)\n",
      "\u001b[2K     \u001b[90m━━━━━━━━━━━━━━━━━━━━━━━━━━━━━━━━━━━━━━━━\u001b[0m \u001b[32m3.1/3.1 MB\u001b[0m \u001b[31m25.0 MB/s\u001b[0m eta \u001b[36m0:00:00\u001b[0ma \u001b[36m0:00:01\u001b[0m\n",
      "\u001b[?25hRequirement already satisfied: requests<3,>=2 in /opt/conda/lib/python3.11/site-packages (from langchain==0.0.123->-r requirements.txt (line 1)) (2.31.0)\n",
      "Collecting tenacity<9.0.0,>=8.1.0 (from langchain==0.0.123->-r requirements.txt (line 1))\n",
      "  Downloading tenacity-8.2.2-py3-none-any.whl (24 kB)\n",
      "Requirement already satisfied: tqdm in /opt/conda/lib/python3.11/site-packages (from openai==0.27.2->-r requirements.txt (line 3)) (4.65.0)\n",
      "Requirement already satisfied: python-dateutil>=2.8.2 in /opt/conda/lib/python3.11/site-packages (from pandas->-r requirements.txt (line 5)) (2.8.2)\n",
      "Requirement already satisfied: pytz>=2020.1 in /opt/conda/lib/python3.11/site-packages (from pandas->-r requirements.txt (line 5)) (2023.3)\n",
      "Collecting tzdata>=2022.1 (from pandas->-r requirements.txt (line 5))\n",
      "  Downloading tzdata-2023.3-py2.py3-none-any.whl (341 kB)\n",
      "\u001b[2K     \u001b[90m━━━━━━━━━━━━━━━━━━━━━━━━━━━━━━━━━━━━━━\u001b[0m \u001b[32m341.8/341.8 kB\u001b[0m \u001b[31m24.7 MB/s\u001b[0m eta \u001b[36m0:00:00\u001b[0m\n",
      "\u001b[?25hRequirement already satisfied: attrs>=17.3.0 in /opt/conda/lib/python3.11/site-packages (from aiohttp<4.0.0,>=3.8.3->langchain==0.0.123->-r requirements.txt (line 1)) (23.1.0)\n",
      "Requirement already satisfied: charset-normalizer<4.0,>=2.0 in /opt/conda/lib/python3.11/site-packages (from aiohttp<4.0.0,>=3.8.3->langchain==0.0.123->-r requirements.txt (line 1)) (3.1.0)\n",
      "Collecting multidict<7.0,>=4.5 (from aiohttp<4.0.0,>=3.8.3->langchain==0.0.123->-r requirements.txt (line 1))\n",
      "  Downloading multidict-6.0.4-cp311-cp311-manylinux_2_17_x86_64.manylinux2014_x86_64.whl (117 kB)\n",
      "\u001b[2K     \u001b[90m━━━━━━━━━━━━━━━━━━━━━━━━━━━━━━━━━━━━━━\u001b[0m \u001b[32m117.4/117.4 kB\u001b[0m \u001b[31m23.3 MB/s\u001b[0m eta \u001b[36m0:00:00\u001b[0m\n",
      "\u001b[?25hCollecting async-timeout<5.0,>=4.0.0a3 (from aiohttp<4.0.0,>=3.8.3->langchain==0.0.123->-r requirements.txt (line 1))\n",
      "  Downloading async_timeout-4.0.2-py3-none-any.whl (5.8 kB)\n",
      "Collecting yarl<2.0,>=1.0 (from aiohttp<4.0.0,>=3.8.3->langchain==0.0.123->-r requirements.txt (line 1))\n",
      "  Downloading yarl-1.9.2-cp311-cp311-manylinux_2_17_x86_64.manylinux2014_x86_64.whl (282 kB)\n",
      "\u001b[2K     \u001b[90m━━━━━━━━━━━━━━━━━━━━━━━━━━━━━━━━━━━━━━\u001b[0m \u001b[32m282.8/282.8 kB\u001b[0m \u001b[31m21.9 MB/s\u001b[0m eta \u001b[36m0:00:00\u001b[0m\n",
      "\u001b[?25hCollecting frozenlist>=1.1.1 (from aiohttp<4.0.0,>=3.8.3->langchain==0.0.123->-r requirements.txt (line 1))\n",
      "  Downloading frozenlist-1.3.3-cp311-cp311-manylinux_2_5_x86_64.manylinux1_x86_64.manylinux_2_17_x86_64.manylinux2014_x86_64.whl (154 kB)\n",
      "\u001b[2K     \u001b[90m━━━━━━━━━━━━━━━━━━━━━━━━━━━━━━━━━━━━━━\u001b[0m \u001b[32m154.3/154.3 kB\u001b[0m \u001b[31m28.0 MB/s\u001b[0m eta \u001b[36m0:00:00\u001b[0m\n",
      "\u001b[?25hCollecting aiosignal>=1.1.2 (from aiohttp<4.0.0,>=3.8.3->langchain==0.0.123->-r requirements.txt (line 1))\n",
      "  Downloading aiosignal-1.3.1-py3-none-any.whl (7.6 kB)\n",
      "Collecting marshmallow<4.0.0,>=3.3.0 (from dataclasses-json<0.6.0,>=0.5.7->langchain==0.0.123->-r requirements.txt (line 1))\n",
      "  Downloading marshmallow-3.19.0-py3-none-any.whl (49 kB)\n",
      "\u001b[2K     \u001b[90m━━━━━━━━━━━━━━━━━━━━━━━━━━━━━━━━━━━━━━━━\u001b[0m \u001b[32m49.1/49.1 kB\u001b[0m \u001b[31m10.6 MB/s\u001b[0m eta \u001b[36m0:00:00\u001b[0m\n",
      "\u001b[?25hCollecting marshmallow-enum<2.0.0,>=1.5.1 (from dataclasses-json<0.6.0,>=0.5.7->langchain==0.0.123->-r requirements.txt (line 1))\n",
      "  Downloading marshmallow_enum-1.5.1-py2.py3-none-any.whl (4.2 kB)\n",
      "Collecting typing-inspect>=0.4.0 (from dataclasses-json<0.6.0,>=0.5.7->langchain==0.0.123->-r requirements.txt (line 1))\n",
      "  Downloading typing_inspect-0.9.0-py3-none-any.whl (8.8 kB)\n",
      "Requirement already satisfied: typing-extensions>=4.2.0 in /opt/conda/lib/python3.11/site-packages (from pydantic<2,>=1->langchain==0.0.123->-r requirements.txt (line 1)) (4.6.3)\n",
      "Requirement already satisfied: six>=1.5 in /opt/conda/lib/python3.11/site-packages (from python-dateutil>=2.8.2->pandas->-r requirements.txt (line 5)) (1.16.0)\n",
      "Requirement already satisfied: idna<4,>=2.5 in /opt/conda/lib/python3.11/site-packages (from requests<3,>=2->langchain==0.0.123->-r requirements.txt (line 1)) (3.4)\n",
      "Requirement already satisfied: urllib3<3,>=1.21.1 in /opt/conda/lib/python3.11/site-packages (from requests<3,>=2->langchain==0.0.123->-r requirements.txt (line 1)) (2.0.2)\n",
      "Requirement already satisfied: certifi>=2017.4.17 in /opt/conda/lib/python3.11/site-packages (from requests<3,>=2->langchain==0.0.123->-r requirements.txt (line 1)) (2023.5.7)\n",
      "Requirement already satisfied: greenlet!=0.4.17 in /opt/conda/lib/python3.11/site-packages (from SQLAlchemy<2,>=1->langchain==0.0.123->-r requirements.txt (line 1)) (2.0.2)\n",
      "Requirement already satisfied: packaging>=17.0 in /opt/conda/lib/python3.11/site-packages (from marshmallow<4.0.0,>=3.3.0->dataclasses-json<0.6.0,>=0.5.7->langchain==0.0.123->-r requirements.txt (line 1)) (23.1)\n",
      "Collecting mypy-extensions>=0.3.0 (from typing-inspect>=0.4.0->dataclasses-json<0.6.0,>=0.5.7->langchain==0.0.123->-r requirements.txt (line 1))\n",
      "  Downloading mypy_extensions-1.0.0-py3-none-any.whl (4.7 kB)\n",
      "Installing collected packages: tzdata, tenacity, SQLAlchemy, redis, pydantic, numpy, mypy-extensions, multidict, marshmallow, frozenlist, async-timeout, yarl, typing-inspect, pandas, marshmallow-enum, aiosignal, dataclasses-json, aiohttp, openai, langchain\n",
      "  Attempting uninstall: SQLAlchemy\n",
      "    Found existing installation: SQLAlchemy 2.0.15\n",
      "    Uninstalling SQLAlchemy-2.0.15:\n",
      "      Successfully uninstalled SQLAlchemy-2.0.15\n",
      "Successfully installed SQLAlchemy-1.4.48 aiohttp-3.8.4 aiosignal-1.3.1 async-timeout-4.0.2 dataclasses-json-0.5.7 frozenlist-1.3.3 langchain-0.0.123 marshmallow-3.19.0 marshmallow-enum-1.5.1 multidict-6.0.4 mypy-extensions-1.0.0 numpy-1.24.3 openai-0.27.2 pandas-2.0.2 pydantic-1.10.9 redis-4.5.3 tenacity-8.2.2 typing-inspect-0.9.0 tzdata-2023.3 yarl-1.9.2\n"
     ]
    }
   ],
   "source": [
    "# Install requirements\n",
    "!pip3 install -r requirements.txt"
   ]
  },
  {
   "cell_type": "markdown",
   "metadata": {},
   "source": [
    "## Pre-processing of synthetic product dataset"
   ]
  },
  {
   "cell_type": "code",
   "execution_count": 2,
   "metadata": {
    "tags": []
   },
   "outputs": [],
   "source": [
    "import pandas as pd\n",
    "\n",
    "# Maximum text length\n",
    "max_str_len = 1024\n",
    "auto_truncate = lambda val: val[:max_str_len]\n",
    "\n",
    "df = pd.read_csv(\n",
    "    \"product_data.csv\", \n",
    "    converters={\n",
    "        'bullet_point': auto_truncate,\n",
    "        'item_keywords': auto_truncate,\n",
    "        'item_name': auto_truncate\n",
    "    }\n",
    ")"
   ]
  },
  {
   "cell_type": "code",
   "execution_count": 3,
   "metadata": {
    "colab": {
     "base_uri": "https://localhost:8080/",
     "height": 669
    },
    "id": "00_n4VWH7FoB",
    "outputId": "f26daa8c-4af9-4def-d5ab-3197777fe2f9",
    "tags": []
   },
   "outputs": [
    {
     "data": {
      "text/html": [
       "<div>\n",
       "<style scoped>\n",
       "    .dataframe tbody tr th:only-of-type {\n",
       "        vertical-align: middle;\n",
       "    }\n",
       "\n",
       "    .dataframe tbody tr th {\n",
       "        vertical-align: top;\n",
       "    }\n",
       "\n",
       "    .dataframe thead th {\n",
       "        text-align: right;\n",
       "    }\n",
       "</style>\n",
       "<table border=\"1\" class=\"dataframe\">\n",
       "  <thead>\n",
       "    <tr style=\"text-align: right;\">\n",
       "      <th></th>\n",
       "      <th>item_id</th>\n",
       "      <th>marketplace</th>\n",
       "      <th>country</th>\n",
       "      <th>main_image_id</th>\n",
       "      <th>domain_name</th>\n",
       "      <th>bullet_point</th>\n",
       "      <th>item_keywords</th>\n",
       "      <th>material</th>\n",
       "      <th>brand</th>\n",
       "      <th>color</th>\n",
       "      <th>item_name</th>\n",
       "      <th>model_name</th>\n",
       "      <th>model_number</th>\n",
       "      <th>product_type</th>\n",
       "      <th>primary_key</th>\n",
       "    </tr>\n",
       "  </thead>\n",
       "  <tbody>\n",
       "    <tr>\n",
       "      <th>0</th>\n",
       "      <td>B07T6RZ2CM</td>\n",
       "      <td>samsclub</td>\n",
       "      <td>IN</td>\n",
       "      <td>71dZhpsferL</td>\n",
       "      <td>samsclub.in</td>\n",
       "      <td>3D Printed Hard Back Case Mobile Cover for Len...</td>\n",
       "      <td>mobile cover back cover mobile case phone case...</td>\n",
       "      <td>NaN</td>\n",
       "      <td>samsclub Brand - Solimo</td>\n",
       "      <td>Others</td>\n",
       "      <td>samsclub Brand - Solimo Designer Couples Sitti...</td>\n",
       "      <td>Lenovo K4 Note</td>\n",
       "      <td>gz8115-SL40423</td>\n",
       "      <td>CELLULAR_PHONE_CASE</td>\n",
       "      <td>B07T6RZ2CM-samsclub.in</td>\n",
       "    </tr>\n",
       "    <tr>\n",
       "      <th>1</th>\n",
       "      <td>B07T2JY31Y</td>\n",
       "      <td>samsclub</td>\n",
       "      <td>IN</td>\n",
       "      <td>71vX7qIEAIL</td>\n",
       "      <td>samsclub.in</td>\n",
       "      <td>3D Printed Hard Back Case Mobile Cover for Son...</td>\n",
       "      <td>mobile cover back cover mobile case phone case...</td>\n",
       "      <td>Wood</td>\n",
       "      <td>samsclub Brand - Solimo</td>\n",
       "      <td>others</td>\n",
       "      <td>samsclub Brand - Solimo Designer Leaf on Wood ...</td>\n",
       "      <td>Sony Xperia Z1 L39H</td>\n",
       "      <td>gz8056-SL40528</td>\n",
       "      <td>CELLULAR_PHONE_CASE</td>\n",
       "      <td>B07T2JY31Y-samsclub.in</td>\n",
       "    </tr>\n",
       "    <tr>\n",
       "      <th>2</th>\n",
       "      <td>B0849YGSCZ</td>\n",
       "      <td>samsclub</td>\n",
       "      <td>AE</td>\n",
       "      <td>A1EZF-2mB5L</td>\n",
       "      <td>samsclub.ae</td>\n",
       "      <td></td>\n",
       "      <td>small de fur rooms navidad woven girls shag pa...</td>\n",
       "      <td>NaN</td>\n",
       "      <td>Stone &amp; Beam</td>\n",
       "      <td>NaN</td>\n",
       "      <td>Stone &amp; Beam Contemporary Doily Wool Farmhouse...</td>\n",
       "      <td>NaN</td>\n",
       "      <td>I59I8044IVYGRYC00-Parent</td>\n",
       "      <td>HOME_FURNITURE_AND_DECOR</td>\n",
       "      <td>B0849YGSCZ-samsclub.ae</td>\n",
       "    </tr>\n",
       "    <tr>\n",
       "      <th>3</th>\n",
       "      <td>B081K6TCML</td>\n",
       "      <td>samsclub</td>\n",
       "      <td>IN</td>\n",
       "      <td>81o9EyZ-fAL</td>\n",
       "      <td>samsclub.in</td>\n",
       "      <td>Solimo Plastic Multipurpose Modular Drawer; sm...</td>\n",
       "      <td>drawer modular drawer 3 rack modular drawer ki...</td>\n",
       "      <td>Plastic</td>\n",
       "      <td>samsclub Brand - Solimo</td>\n",
       "      <td>Multicolor</td>\n",
       "      <td>samsclub Brand - Solimo Plastic Multipurpose M...</td>\n",
       "      <td>NaN</td>\n",
       "      <td>sol_cujo_13</td>\n",
       "      <td>HOME</td>\n",
       "      <td>B081K6TCML-samsclub.in</td>\n",
       "    </tr>\n",
       "    <tr>\n",
       "      <th>4</th>\n",
       "      <td>B0854774X5</td>\n",
       "      <td>samsclub</td>\n",
       "      <td>IN</td>\n",
       "      <td>81xaJCVnl3L</td>\n",
       "      <td>samsclub.in</td>\n",
       "      <td>Snug fit for Nokia 8.1, with perfect cut-outs ...</td>\n",
       "      <td>Back Cover Designer Case Designer Take It Easy...</td>\n",
       "      <td>Silicon</td>\n",
       "      <td>samsclub Brand - Solimo</td>\n",
       "      <td>Multicolor</td>\n",
       "      <td>samsclub Brand - Solimo Designer Take It Easy ...</td>\n",
       "      <td>Nokia 8.1</td>\n",
       "      <td>UV10714-SL40617</td>\n",
       "      <td>CELLULAR_PHONE_CASE</td>\n",
       "      <td>B0854774X5-samsclub.in</td>\n",
       "    </tr>\n",
       "  </tbody>\n",
       "</table>\n",
       "</div>"
      ],
      "text/plain": [
       "      item_id marketplace country main_image_id  domain_name  \\\n",
       "0  B07T6RZ2CM    samsclub      IN   71dZhpsferL  samsclub.in   \n",
       "1  B07T2JY31Y    samsclub      IN   71vX7qIEAIL  samsclub.in   \n",
       "2  B0849YGSCZ    samsclub      AE   A1EZF-2mB5L  samsclub.ae   \n",
       "3  B081K6TCML    samsclub      IN   81o9EyZ-fAL  samsclub.in   \n",
       "4  B0854774X5    samsclub      IN   81xaJCVnl3L  samsclub.in   \n",
       "\n",
       "                                        bullet_point  \\\n",
       "0  3D Printed Hard Back Case Mobile Cover for Len...   \n",
       "1  3D Printed Hard Back Case Mobile Cover for Son...   \n",
       "2                                                      \n",
       "3  Solimo Plastic Multipurpose Modular Drawer; sm...   \n",
       "4  Snug fit for Nokia 8.1, with perfect cut-outs ...   \n",
       "\n",
       "                                       item_keywords material  \\\n",
       "0  mobile cover back cover mobile case phone case...      NaN   \n",
       "1  mobile cover back cover mobile case phone case...     Wood   \n",
       "2  small de fur rooms navidad woven girls shag pa...      NaN   \n",
       "3  drawer modular drawer 3 rack modular drawer ki...  Plastic   \n",
       "4  Back Cover Designer Case Designer Take It Easy...  Silicon   \n",
       "\n",
       "                     brand       color  \\\n",
       "0  samsclub Brand - Solimo      Others   \n",
       "1  samsclub Brand - Solimo      others   \n",
       "2             Stone & Beam         NaN   \n",
       "3  samsclub Brand - Solimo  Multicolor   \n",
       "4  samsclub Brand - Solimo  Multicolor   \n",
       "\n",
       "                                           item_name           model_name  \\\n",
       "0  samsclub Brand - Solimo Designer Couples Sitti...       Lenovo K4 Note   \n",
       "1  samsclub Brand - Solimo Designer Leaf on Wood ...  Sony Xperia Z1 L39H   \n",
       "2  Stone & Beam Contemporary Doily Wool Farmhouse...                  NaN   \n",
       "3  samsclub Brand - Solimo Plastic Multipurpose M...                  NaN   \n",
       "4  samsclub Brand - Solimo Designer Take It Easy ...            Nokia 8.1   \n",
       "\n",
       "               model_number              product_type             primary_key  \n",
       "0            gz8115-SL40423       CELLULAR_PHONE_CASE  B07T6RZ2CM-samsclub.in  \n",
       "1            gz8056-SL40528       CELLULAR_PHONE_CASE  B07T2JY31Y-samsclub.in  \n",
       "2  I59I8044IVYGRYC00-Parent  HOME_FURNITURE_AND_DECOR  B0849YGSCZ-samsclub.ae  \n",
       "3               sol_cujo_13                      HOME  B081K6TCML-samsclub.in  \n",
       "4           UV10714-SL40617       CELLULAR_PHONE_CASE  B0854774X5-samsclub.in  "
      ]
     },
     "execution_count": 3,
     "metadata": {},
     "output_type": "execute_result"
    }
   ],
   "source": [
    "import pandas as pd\n",
    "\n",
    "# Combine 'item_id' and 'domain_name' to form a unique identifier 'primary_key'\n",
    "df['primary_key'] = df['item_id'].str.cat(df['domain_name'], sep='-')\n",
    "\n",
    "# Handle missing data: Convert empty strings in 'item_keywords' to NaN and then drop those rows\n",
    "df['item_keywords'].replace('', pd.NaT, inplace=True)\n",
    "df.dropna(subset=['item_keywords'], inplace=True)\n",
    "\n",
    "# Re-index the dataframe to maintain continuity after dropping rows\n",
    "df.reset_index(drop=True, inplace=True)\n",
    "\n",
    "# Display the first few rows of the dataframe\n",
    "df.head()\n"
   ]
  },
  {
   "cell_type": "code",
   "execution_count": 4,
   "metadata": {
    "tags": []
   },
   "outputs": [],
   "source": [
    "# Num products to use (subset)\n",
    "num_products = 5000  \n",
    "product_metadata = ( \n",
    "    df\n",
    "     .head(num_products)\n",
    "     .to_dict(orient='index')\n",
    ")"
   ]
  },
  {
   "cell_type": "code",
   "execution_count": 5,
   "metadata": {
    "id": "Iw7rlppY8f3a",
    "tags": []
   },
   "outputs": [
    {
     "data": {
      "text/plain": [
       "{'item_id': 'B07T6RZ2CM',\n",
       " 'marketplace': 'samsclub',\n",
       " 'country': 'IN',\n",
       " 'main_image_id': '71dZhpsferL',\n",
       " 'domain_name': 'samsclub.in',\n",
       " 'bullet_point': '3D Printed Hard Back Case Mobile Cover for Lenovo K4 Note Easy to put & take off with perfect cutouts for volume buttons, audio & charging ports. Stylish design and appearance, express your unique personality. Extreme precision design allows easy access to all buttons and ports while featuring raised bezel to life screen and camera off flat surface. Slim Hard Back Cover No Warranty None',\n",
       " 'item_keywords': 'mobile cover back cover mobile case phone case mobile panel phone panel Lenovo mobile case Lenovo phone cover Lenovo back case hard case 3D printed mobile cover mobile cover back cover mobile case phone case mobile panel phone panel Lenovo mobile case Lenovo phone cover Lenovo back case hard case 3D printed mobile cover mobile cover back cover mobile case phone case mobile panel phone panel Lenovo mobile case Lenovo phone cover Lenovo back case hard case 3D printed mobile cover mobile cover back cover mobile case phone case mobile panel phone panel Lenovo mobile case Lenovo phone cover Lenovo back case hard case 3D printed mobile cover mobile cover back cover mobile case phone case mobile panel phone panel Lenovo mobile case Lenovo phone cover Lenovo back case hard case 3D printed mobile cover mobile cover back cover mobile case phone case mobile panel phone panel Lenovo mobile case Lenovo phone cover Lenovo back case hard case 3D printed mobile cover mobile cover back cover mobile case phone case mobile pane',\n",
       " 'material': nan,\n",
       " 'brand': 'samsclub Brand - Solimo',\n",
       " 'color': 'Others',\n",
       " 'item_name': 'samsclub Brand - Solimo Designer Couples Sitting at Dark 3D Printed Hard Back Case Mobile Cover for Lenovo K4 Note',\n",
       " 'model_name': 'Lenovo K4 Note',\n",
       " 'model_number': 'gz8115-SL40423',\n",
       " 'product_type': 'CELLULAR_PHONE_CASE',\n",
       " 'primary_key': 'B07T6RZ2CM-samsclub.in'}"
      ]
     },
     "execution_count": 5,
     "metadata": {},
     "output_type": "execute_result"
    }
   ],
   "source": [
    "# Check one of the products\n",
    "product_metadata[0]"
   ]
  },
  {
   "cell_type": "markdown",
   "metadata": {},
   "source": [
    "## Create a vector db to store the information of products using Redis"
   ]
  },
  {
   "cell_type": "code",
   "execution_count": 6,
   "metadata": {
    "tags": []
   },
   "outputs": [],
   "source": [
    "# Import necessary modules\n",
    "from langchain.embeddings import OpenAIEmbeddings\n",
    "from langchain.vectorstores.redis import Redis as RedisVectorStore\n",
    "\n",
    "# Extract item_names from the product_metadata to be used for generating embeddings\n",
    "texts = [metadata['item_name'] for metadata in product_metadata.values()]\n",
    "\n",
    "# Prepare metadatas which will be stored alongside the vectors\n",
    "metadatas = list(product_metadata.values())\n",
    "\n",
    "# Use OpenAIEmbeddings as the embeddings provider\n",
    "embeddings_provider = OpenAIEmbeddings()\n",
    "\n",
    "# Define the name for the Redis search index\n",
    "redis_index_name = \"products\"\n",
    "\n",
    "# Define the Redis URL, assuming a Redis server running on a Docker compose network\n",
    "redis_server_url = \"redis://redis:6379\"\n",
    "\n",
    "# Initialize a RedisVectorStore and load documents (embeddings and metadatas) into Redis\n",
    "vectorstore = RedisVectorStore.from_texts(\n",
    "    texts=texts,\n",
    "    metadatas=metadatas,\n",
    "    embedding=embeddings_provider,\n",
    "    index_name=redis_index_name,\n",
    "    redis_url=redis_server_url\n",
    ")\n"
   ]
  },
  {
   "cell_type": "markdown",
   "metadata": {},
   "source": [
    "## ChatBot with ConversationalRetrieverChain"
   ]
  },
  {
   "cell_type": "code",
   "execution_count": 7,
   "metadata": {
    "tags": []
   },
   "outputs": [],
   "source": [
    "from langchain.callbacks.base import CallbackManager\n",
    "from langchain.callbacks.streaming_stdout import StreamingStdOutCallbackHandler\n",
    "from langchain.chains import (\n",
    "    ConversationalRetrievalChain,\n",
    "    LLMChain\n",
    ")\n",
    "from langchain.chains.question_answering import load_qa_chain\n",
    "from langchain.llms import OpenAI\n",
    "from langchain.prompts.prompt import PromptTemplate\n",
    "\n",
    "template = \"\"\"Given the following chat history and a follow up question, rephrase the follow up input question to be a standalone question.\n",
    "Or end the conversation if it seems like it's done.\n",
    "\n",
    "Chat History:\\\"\"\"\n",
    "{chat_history}\n",
    "\\\"\"\"\n",
    "\n",
    "Follow Up Input: \\\"\"\"\n",
    "{question}\n",
    "\\\"\"\"\n",
    "\n",
    "Standalone question:\"\"\"\n",
    "\n",
    "condense_question_prompt = PromptTemplate.from_template(template)\n",
    "\n",
    "template = \"\"\"You are a friendly, conversational retail shopping assistant designed to be able to assist with a wide range of tasks ranging from answering simple questions to providing in-depth explanations and discussions on a wide range of topics related to retail shopping.\n",
    "\n",
    "As a language model, Assistant is able to generate human-like text based on the input it receives, allowing it to engage in natural-sounding conversations and provide responses that are coherent and relevant to the topic at hand.\n",
    "\n",
    "Assistant is constantly learning and improving, and its capabilities are constantly evolving. It is able to process and understand large amounts of text, and can use this knowledge to provide accurate and informative responses to a wide range of questions. \n",
    "\n",
    "Overall, Assistant is a powerful tool that can help with a wide range of tasks related to shopping and provide valuable insights and information on a wide range of products. Whether you need help with a specific question or just want to have a conversation about shopping plans, trade offs between different prodcuts, Assistant is here to assis\n",
    "\n",
    "Use the following context including product names, descriptions, and keywords to show the shopper whats available, help find what they want\n",
    "\n",
    "Context:\\\"\"\"\n",
    "{context}\n",
    "\\\"\"\"\n",
    "\n",
    "Question:\\\"\n",
    "\\\"\"\"\n",
    "\n",
    "Helpful Answer:\"\"\"\n",
    "\n",
    "qa_prompt= PromptTemplate.from_template(template)\n",
    "\n",
    "\n",
    "# define two LLM models from OpenAI\n",
    "llm = OpenAI(temperature=0)\n",
    "\n",
    "streaming_llm = OpenAI(\n",
    "    streaming=True,\n",
    "    callback_manager=CallbackManager([\n",
    "        StreamingStdOutCallbackHandler()]),\n",
    "    verbose=True,\n",
    "    temperature=0.2,\n",
    "    max_tokens=150\n",
    ")\n",
    "\n",
    "# use the LLM Chain to create a question creation chain\n",
    "question_generator = LLMChain(\n",
    "    llm=llm,\n",
    "    prompt=condense_question_prompt\n",
    ")\n",
    "\n",
    "# use the streaming LLM to create a question answering chain\n",
    "doc_chain = load_qa_chain(\n",
    "    llm=streaming_llm,\n",
    "    chain_type=\"stuff\",\n",
    "    prompt=qa_prompt\n",
    ")\n",
    "\n",
    "\n",
    "chatbot = ConversationalRetrievalChain(\n",
    "    retriever=vectorstore.as_retriever(),\n",
    "    combine_docs_chain=doc_chain,\n",
    "    question_generator=question_generator\n",
    ")"
   ]
  },
  {
   "cell_type": "code",
   "execution_count": 8,
   "metadata": {
    "tags": []
   },
   "outputs": [],
   "source": [
    "import json\n",
    "\n",
    "from langchain.schema import BaseRetriever\n",
    "from langchain.vectorstores import VectorStore\n",
    "from langchain.schema import Document\n",
    "from pydantic import BaseModel\n",
    "\n",
    "class RedisProductRetriever(BaseRetriever, BaseModel):\n",
    "    # Define vectorstore as an attribute of the retriever\n",
    "    vectorstore: VectorStore\n",
    "\n",
    "    class Config:\n",
    "        # Allow arbitrary types\n",
    "        arbitrary_types_allowed = True\n",
    "\n",
    "    def combine_metadata(self, doc) -> str:\n",
    "        \"\"\"Combine metadata of a document into a single string.\"\"\"\n",
    "        metadata = doc.metadata\n",
    "        return (\n",
    "            \"Item Name: \" + metadata[\"item_name\"] + \". \" +\n",
    "            \"Item Description: \" + metadata[\"bullet_point\"] + \". \" +\n",
    "            \"Item Keywords: \" + metadata[\"item_keywords\"] + \".\"\n",
    "        )\n",
    "\n",
    "    def get_relevant_documents(self, query):\n",
    "        \"\"\"Retrieve relevant documents based on the given query.\"\"\"\n",
    "        # Initialize a list to hold the documents\n",
    "        docs = []\n",
    "        \n",
    "        # Iterate over the documents retrieved based on the query\n",
    "        for doc in self.vectorstore.similarity_search(query):\n",
    "            # Combine the metadata of each document\n",
    "            content = self.combine_metadata(doc)\n",
    "            \n",
    "            # Append each document to the list of documents\n",
    "            docs.append(Document(\n",
    "                page_content=content,\n",
    "                metadata=doc.metadata\n",
    "            ))\n",
    "        return docs\n"
   ]
  },
  {
   "cell_type": "markdown",
   "metadata": {},
   "source": [
    "### Setup ChatBot with new retriever"
   ]
  },
  {
   "cell_type": "code",
   "execution_count": 9,
   "metadata": {
    "tags": []
   },
   "outputs": [],
   "source": [
    "redis_product_retriever = RedisProductRetriever(vectorstore=vectorstore)\n",
    "\n",
    "chatbot = ConversationalRetrievalChain(\n",
    "    retriever=redis_product_retriever,\n",
    "    combine_docs_chain=doc_chain,\n",
    "    question_generator=question_generator\n",
    ")"
   ]
  },
  {
   "cell_type": "markdown",
   "metadata": {},
   "source": [
    "### Retry"
   ]
  },
  {
   "cell_type": "code",
   "execution_count": null,
   "metadata": {
    "tags": []
   },
   "outputs": [
    {
     "name": "stdout",
     "output_type": "stream",
     "text": [
      "Hello! What are you looking for today? i am looking for eggs\n"
     ]
    },
    {
     "name": "stdout",
     "output_type": "stream",
     "text": [
      "\n",
      "\n",
      "No problem! We have a great selection of eggs for you to choose from. We have Everyday Value, Cage-Free Non-GMO Large Brown Grade A Eggs, 12 ct., Everyday Value Organic Brown Large Grade A Eggs, 12 CT., Everyday Value, Organic Large Brown Grade A Eggs, 12 ct., and Everyday Value Brown Medium Grade A Eggs, 18 CT. All of these eggs are raised naturally without antibiotics and vegetarian feed with no animal by-products. They also meet non-GMO project standards. Let me know if you have any questions about any of these products and I'd be happy to help!\n",
      "\n"
     ]
    },
    {
     "name": "stdout",
     "output_type": "stream",
     "text": [
      " i want bread\n"
     ]
    },
    {
     "name": "stdout",
     "output_type": "stream",
     "text": [
      "\n",
      "\n",
      "No problem! We have a wide selection of products to choose from at sams club. For example, we have the Bun Brioche Hamburger Wheat, 10.6 Ounce which are made-in-France, amazingly rich and tender, seriously-special hamburger buns. We also have the Limited Edition Bread & Muffin Mix, Spiced Pumpkin (Made With Real Pumpkin), 18.3 Ounce which is vegan, vegetarian, certified kosher, and non-GMO project verified. We also have the Pretzel Birthday Cake, 5 Ounce which is a candy snack made with crunchy pretzels enrobed in white chocolate and rainbow sprinkles. Lastly, we have the Organic Honey Graham Cr\n",
      "\n"
     ]
    },
    {
     "name": "stdout",
     "output_type": "stream",
     "text": [
      " create a shopping list for a banana bread recipe\n"
     ]
    },
    {
     "name": "stdout",
     "output_type": "stream",
     "text": [
      "\n",
      "\n",
      "Thanks for your question! We have a great selection of products related to retail shopping that can help you find what you're looking for. We have the SamsClub Kitchen Tofu Banh Mi Sandwich, 8.9 oz., which is a vegetarian sandwich with pickled carrots and daikon, jalapeños, cilantro, and lemongrass aioli on a baguette. We also have the Everyday Value Organic Instant Pudding, Strawberry Guava, 3.7 oz., which is a limited edition Pacific Rim Fruit Collection with a naturally flavored, certified organic, certified kosher, certified vegan, and certified vegetarian pudding. And lastly, we have the Everyday Value Bread Crumbs, Whole Wheat,\n",
      "\n"
     ]
    }
   ],
   "source": [
    "# create a chat history buffer\n",
    "chat_history = []\n",
    "\n",
    "# gather user input for the first question to kick off the bot\n",
    "question = input(\"Hello! What are you looking for today?\")\n",
    "\n",
    "# keep the bot running in a loop to simulate a conversation\n",
    "while True:\n",
    "    result = chatbot(\n",
    "        {\"question\": question, \"chat_history\": chat_history}\n",
    "    )\n",
    "    print(\"\\n\")\n",
    "    chat_history.append((result[\"question\"], result[\"answer\"]))\n",
    "    question = input()"
   ]
  },
  {
   "cell_type": "code",
   "execution_count": null,
   "metadata": {},
   "outputs": [],
   "source": []
  }
 ],
 "metadata": {
  "colab": {
   "provenance": []
  },
  "kernelspec": {
   "display_name": "Python 3 (ipykernel)",
   "language": "python",
   "name": "python3"
  },
  "language_info": {
   "codemirror_mode": {
    "name": "ipython",
    "version": 3
   },
   "file_extension": ".py",
   "mimetype": "text/x-python",
   "name": "python",
   "nbconvert_exporter": "python",
   "pygments_lexer": "ipython3",
   "version": "3.11.3"
  }
 },
 "nbformat": 4,
 "nbformat_minor": 4
}
